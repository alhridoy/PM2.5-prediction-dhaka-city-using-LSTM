{
 "cells": [
  {
   "cell_type": "code",
   "execution_count": 34,
   "id": "482d5165",
   "metadata": {},
   "outputs": [],
   "source": [
    "import pandas as pd\n",
    "#Importing libraries and loading dataset\n",
    "import numpy as np\n",
    "%matplotlib inline\n",
    "import matplotlib.pyplot as plt\n",
    "import pandas as pd\n",
    "from datetime import datetime\n"
   ]
  },
  {
   "cell_type": "code",
   "execution_count": 35,
   "id": "ca18ceef",
   "metadata": {},
   "outputs": [],
   "source": [
    "df=pd.read_csv('pm.csv')"
   ]
  },
  {
   "cell_type": "code",
   "execution_count": 36,
   "id": "de11a7d9",
   "metadata": {},
   "outputs": [],
   "source": [
    "df['date']= pd.to_datetime(df['date'])"
   ]
  },
  {
   "cell_type": "code",
   "execution_count": 37,
   "id": "603b57b5",
   "metadata": {},
   "outputs": [
    {
     "data": {
      "text/html": [
       "<div>\n",
       "<style scoped>\n",
       "    .dataframe tbody tr th:only-of-type {\n",
       "        vertical-align: middle;\n",
       "    }\n",
       "\n",
       "    .dataframe tbody tr th {\n",
       "        vertical-align: top;\n",
       "    }\n",
       "\n",
       "    .dataframe thead th {\n",
       "        text-align: right;\n",
       "    }\n",
       "</style>\n",
       "<table border=\"1\" class=\"dataframe\">\n",
       "  <thead>\n",
       "    <tr style=\"text-align: right;\">\n",
       "      <th></th>\n",
       "      <th>TEMP</th>\n",
       "      <th>Hum</th>\n",
       "      <th>Year</th>\n",
       "      <th>Month</th>\n",
       "      <th>Hour</th>\n",
       "      <th>Value</th>\n",
       "      <th>Wind</th>\n",
       "      <th>date</th>\n",
       "    </tr>\n",
       "  </thead>\n",
       "  <tbody>\n",
       "    <tr>\n",
       "      <th>0</th>\n",
       "      <td>27.042139</td>\n",
       "      <td>62.0625</td>\n",
       "      <td>2016</td>\n",
       "      <td>3</td>\n",
       "      <td>3</td>\n",
       "      <td>251.4</td>\n",
       "      <td>2.652545</td>\n",
       "      <td>2016-01-03 03:00:00</td>\n",
       "    </tr>\n",
       "    <tr>\n",
       "      <th>1</th>\n",
       "      <td>29.110712</td>\n",
       "      <td>62.0625</td>\n",
       "      <td>2016</td>\n",
       "      <td>3</td>\n",
       "      <td>4</td>\n",
       "      <td>246.0</td>\n",
       "      <td>3.885251</td>\n",
       "      <td>2016-01-03 04:00:00</td>\n",
       "    </tr>\n",
       "    <tr>\n",
       "      <th>2</th>\n",
       "      <td>29.883539</td>\n",
       "      <td>62.0625</td>\n",
       "      <td>2016</td>\n",
       "      <td>3</td>\n",
       "      <td>5</td>\n",
       "      <td>264.0</td>\n",
       "      <td>4.903973</td>\n",
       "      <td>2016-01-03 05:00:00</td>\n",
       "    </tr>\n",
       "    <tr>\n",
       "      <th>3</th>\n",
       "      <td>30.473932</td>\n",
       "      <td>62.0625</td>\n",
       "      <td>2016</td>\n",
       "      <td>3</td>\n",
       "      <td>6</td>\n",
       "      <td>256.8</td>\n",
       "      <td>6.708690</td>\n",
       "      <td>2016-01-03 06:00:00</td>\n",
       "    </tr>\n",
       "    <tr>\n",
       "      <th>4</th>\n",
       "      <td>30.945337</td>\n",
       "      <td>62.0625</td>\n",
       "      <td>2016</td>\n",
       "      <td>3</td>\n",
       "      <td>7</td>\n",
       "      <td>238.2</td>\n",
       "      <td>7.963866</td>\n",
       "      <td>2016-01-03 07:00:00</td>\n",
       "    </tr>\n",
       "    <tr>\n",
       "      <th>...</th>\n",
       "      <td>...</td>\n",
       "      <td>...</td>\n",
       "      <td>...</td>\n",
       "      <td>...</td>\n",
       "      <td>...</td>\n",
       "      <td>...</td>\n",
       "      <td>...</td>\n",
       "      <td>...</td>\n",
       "    </tr>\n",
       "    <tr>\n",
       "      <th>30151</th>\n",
       "      <td>16.730799</td>\n",
       "      <td>57.5000</td>\n",
       "      <td>2019</td>\n",
       "      <td>12</td>\n",
       "      <td>19</td>\n",
       "      <td>160.1</td>\n",
       "      <td>11.239508</td>\n",
       "      <td>2019-12-30 19:00:00</td>\n",
       "    </tr>\n",
       "    <tr>\n",
       "      <th>30152</th>\n",
       "      <td>15.977900</td>\n",
       "      <td>57.5000</td>\n",
       "      <td>2019</td>\n",
       "      <td>12</td>\n",
       "      <td>20</td>\n",
       "      <td>163.5</td>\n",
       "      <td>11.266323</td>\n",
       "      <td>2019-12-30 20:00:00</td>\n",
       "    </tr>\n",
       "    <tr>\n",
       "      <th>30153</th>\n",
       "      <td>15.328638</td>\n",
       "      <td>57.5000</td>\n",
       "      <td>2019</td>\n",
       "      <td>12</td>\n",
       "      <td>21</td>\n",
       "      <td>192.7</td>\n",
       "      <td>10.663340</td>\n",
       "      <td>2019-12-30 21:00:00</td>\n",
       "    </tr>\n",
       "    <tr>\n",
       "      <th>30154</th>\n",
       "      <td>14.792780</td>\n",
       "      <td>57.5000</td>\n",
       "      <td>2019</td>\n",
       "      <td>12</td>\n",
       "      <td>22</td>\n",
       "      <td>213.3</td>\n",
       "      <td>9.555317</td>\n",
       "      <td>2019-12-30 22:00:00</td>\n",
       "    </tr>\n",
       "    <tr>\n",
       "      <th>30155</th>\n",
       "      <td>14.518030</td>\n",
       "      <td>57.5000</td>\n",
       "      <td>2019</td>\n",
       "      <td>12</td>\n",
       "      <td>23</td>\n",
       "      <td>228.2</td>\n",
       "      <td>8.193143</td>\n",
       "      <td>2019-12-30 23:00:00</td>\n",
       "    </tr>\n",
       "  </tbody>\n",
       "</table>\n",
       "<p>30156 rows × 8 columns</p>\n",
       "</div>"
      ],
      "text/plain": [
       "            TEMP      Hum  Year  Month  Hour  Value       Wind  \\\n",
       "0      27.042139  62.0625  2016      3     3  251.4   2.652545   \n",
       "1      29.110712  62.0625  2016      3     4  246.0   3.885251   \n",
       "2      29.883539  62.0625  2016      3     5  264.0   4.903973   \n",
       "3      30.473932  62.0625  2016      3     6  256.8   6.708690   \n",
       "4      30.945337  62.0625  2016      3     7  238.2   7.963866   \n",
       "...          ...      ...   ...    ...   ...    ...        ...   \n",
       "30151  16.730799  57.5000  2019     12    19  160.1  11.239508   \n",
       "30152  15.977900  57.5000  2019     12    20  163.5  11.266323   \n",
       "30153  15.328638  57.5000  2019     12    21  192.7  10.663340   \n",
       "30154  14.792780  57.5000  2019     12    22  213.3   9.555317   \n",
       "30155  14.518030  57.5000  2019     12    23  228.2   8.193143   \n",
       "\n",
       "                     date  \n",
       "0     2016-01-03 03:00:00  \n",
       "1     2016-01-03 04:00:00  \n",
       "2     2016-01-03 05:00:00  \n",
       "3     2016-01-03 06:00:00  \n",
       "4     2016-01-03 07:00:00  \n",
       "...                   ...  \n",
       "30151 2019-12-30 19:00:00  \n",
       "30152 2019-12-30 20:00:00  \n",
       "30153 2019-12-30 21:00:00  \n",
       "30154 2019-12-30 22:00:00  \n",
       "30155 2019-12-30 23:00:00  \n",
       "\n",
       "[30156 rows x 8 columns]"
      ]
     },
     "execution_count": 37,
     "metadata": {},
     "output_type": "execute_result"
    }
   ],
   "source": [
    "df"
   ]
  },
  {
   "cell_type": "code",
   "execution_count": 38,
   "id": "44ab16ac",
   "metadata": {},
   "outputs": [
    {
     "data": {
      "text/plain": [
       "Index(['TEMP', 'Hum', 'Year', 'Month', 'Hour', 'Value', 'Wind', 'date'], dtype='object')"
      ]
     },
     "execution_count": 38,
     "metadata": {},
     "output_type": "execute_result"
    }
   ],
   "source": [
    "df.columns"
   ]
  },
  {
   "cell_type": "code",
   "execution_count": 39,
   "id": "25440656",
   "metadata": {},
   "outputs": [],
   "source": [
    "df = df[['date', 'Value', 'TEMP', 'Hum','Wind']]"
   ]
  },
  {
   "cell_type": "code",
   "execution_count": 40,
   "id": "42545477",
   "metadata": {},
   "outputs": [
    {
     "data": {
      "text/html": [
       "<div>\n",
       "<style scoped>\n",
       "    .dataframe tbody tr th:only-of-type {\n",
       "        vertical-align: middle;\n",
       "    }\n",
       "\n",
       "    .dataframe tbody tr th {\n",
       "        vertical-align: top;\n",
       "    }\n",
       "\n",
       "    .dataframe thead th {\n",
       "        text-align: right;\n",
       "    }\n",
       "</style>\n",
       "<table border=\"1\" class=\"dataframe\">\n",
       "  <thead>\n",
       "    <tr style=\"text-align: right;\">\n",
       "      <th></th>\n",
       "      <th>Value</th>\n",
       "      <th>TEMP</th>\n",
       "      <th>Hum</th>\n",
       "      <th>Wind</th>\n",
       "    </tr>\n",
       "  </thead>\n",
       "  <tbody>\n",
       "    <tr>\n",
       "      <th>count</th>\n",
       "      <td>30156.000000</td>\n",
       "      <td>30156.000000</td>\n",
       "      <td>30156.000000</td>\n",
       "      <td>30156.000000</td>\n",
       "    </tr>\n",
       "    <tr>\n",
       "      <th>mean</th>\n",
       "      <td>82.363762</td>\n",
       "      <td>26.029793</td>\n",
       "      <td>67.314156</td>\n",
       "      <td>15.552587</td>\n",
       "    </tr>\n",
       "    <tr>\n",
       "      <th>std</th>\n",
       "      <td>71.191298</td>\n",
       "      <td>4.365403</td>\n",
       "      <td>6.952617</td>\n",
       "      <td>7.929298</td>\n",
       "    </tr>\n",
       "    <tr>\n",
       "      <th>min</th>\n",
       "      <td>0.300000</td>\n",
       "      <td>8.877344</td>\n",
       "      <td>37.250000</td>\n",
       "      <td>0.768092</td>\n",
       "    </tr>\n",
       "    <tr>\n",
       "      <th>25%</th>\n",
       "      <td>32.200000</td>\n",
       "      <td>23.837061</td>\n",
       "      <td>63.375000</td>\n",
       "      <td>9.272838</td>\n",
       "    </tr>\n",
       "    <tr>\n",
       "      <th>50%</th>\n",
       "      <td>56.400000</td>\n",
       "      <td>26.823206</td>\n",
       "      <td>67.812500</td>\n",
       "      <td>14.733385</td>\n",
       "    </tr>\n",
       "    <tr>\n",
       "      <th>75%</th>\n",
       "      <td>111.600000</td>\n",
       "      <td>28.943758</td>\n",
       "      <td>72.000000</td>\n",
       "      <td>20.930596</td>\n",
       "    </tr>\n",
       "    <tr>\n",
       "      <th>max</th>\n",
       "      <td>739.700000</td>\n",
       "      <td>39.182182</td>\n",
       "      <td>89.000000</td>\n",
       "      <td>69.624955</td>\n",
       "    </tr>\n",
       "  </tbody>\n",
       "</table>\n",
       "</div>"
      ],
      "text/plain": [
       "              Value          TEMP           Hum          Wind\n",
       "count  30156.000000  30156.000000  30156.000000  30156.000000\n",
       "mean      82.363762     26.029793     67.314156     15.552587\n",
       "std       71.191298      4.365403      6.952617      7.929298\n",
       "min        0.300000      8.877344     37.250000      0.768092\n",
       "25%       32.200000     23.837061     63.375000      9.272838\n",
       "50%       56.400000     26.823206     67.812500     14.733385\n",
       "75%      111.600000     28.943758     72.000000     20.930596\n",
       "max      739.700000     39.182182     89.000000     69.624955"
      ]
     },
     "execution_count": 40,
     "metadata": {},
     "output_type": "execute_result"
    }
   ],
   "source": [
    "df.describe()"
   ]
  },
  {
   "cell_type": "code",
   "execution_count": 41,
   "id": "1f9f508d",
   "metadata": {},
   "outputs": [
    {
     "data": {
      "text/plain": [
       "Index(['date', 'Value', 'TEMP', 'Hum', 'Wind'], dtype='object')"
      ]
     },
     "execution_count": 41,
     "metadata": {},
     "output_type": "execute_result"
    }
   ],
   "source": [
    "df.columns"
   ]
  },
  {
   "cell_type": "code",
   "execution_count": 42,
   "id": "57437d9e",
   "metadata": {},
   "outputs": [],
   "source": [
    "df=df.set_index('date')"
   ]
  },
  {
   "cell_type": "code",
   "execution_count": 43,
   "id": "8a7e21e6",
   "metadata": {},
   "outputs": [
    {
     "data": {
      "text/plain": [
       "['Value', 'TEMP', 'Hum', 'Wind']"
      ]
     },
     "execution_count": 43,
     "metadata": {},
     "output_type": "execute_result"
    }
   ],
   "source": [
    "dataset_columns = df.columns.tolist()\n",
    "dataset_columns"
   ]
  },
  {
   "cell_type": "code",
   "execution_count": 44,
   "id": "e71b7426",
   "metadata": {},
   "outputs": [
    {
     "data": {
      "image/png": "[encoded data removed]",
      "text/plain": [
       "<Figure size 288x288 with 2 Axes>"
      ]
     },
     "metadata": {
      "needs_background": "light"
     },
     "output_type": "display_data"
    }
   ],
   "source": [
    "#Analysing relationship between different features\n",
    "# cor_cols = ['pollution', 'wnd_spd', 'rain', 'snow', 'temp']\n",
    "cor_cols = dataset_columns\n",
    "plt.matshow(df.corr())\n",
    "plt.xticks(range(len(cor_cols)), cor_cols)\n",
    "plt.yticks(range(len(cor_cols)), cor_cols)\n",
    "plt.colorbar()\n",
    "plt.show()"
   ]
  },
  {
   "cell_type": "code",
   "execution_count": 46,
   "id": "81b68f49",
   "metadata": {},
   "outputs": [
    {
     "data": {
      "text/plain": [
       "array([ 363., 1107., 1963., ..., 9463., 7926., 6080.], dtype=float32)"
      ]
     },
     "execution_count": 46,
     "metadata": {},
     "output_type": "execute_result"
    }
   ],
   "source": [
    "from sklearn.preprocessing import LabelEncoder\n",
    "\n",
    "# Encode non categorical values\n",
    "values = df.values\n",
    "encoder = LabelEncoder()\n",
    "values[:,3] = encoder.fit_transform(values[:,3])\n",
    "values = values.astype('float32')\n",
    "values[:,3]"
   ]
  },
  {
   "cell_type": "code",
   "execution_count": 47,
   "id": "b00cc0cd",
   "metadata": {},
   "outputs": [],
   "source": [
    "#Normalising data\n",
    "from sklearn.preprocessing import MinMaxScaler\n",
    "\n",
    "scaler = MinMaxScaler(feature_range=(0, 1))\n",
    "scaled_dataset = scaler.fit_transform(values)"
   ]
  },
  {
   "cell_type": "code",
   "execution_count": 49,
   "id": "b6bc1e6f",
   "metadata": {},
   "outputs": [],
   "source": [
    "#Creating a window for previous data\n",
    "def to_supervised(train):\n",
    "  window_size = 4\n",
    "  X = []\n",
    "  Y = []\n",
    "  for i in range(window_size, len(train)):\n",
    "    X.append(train[i-window_size:i,:])\n",
    "    Y.append(train[i,0:1])\n",
    "    \n",
    "  return X,Y"
   ]
  },
  {
   "cell_type": "code",
   "execution_count": 50,
   "id": "605087c5",
   "metadata": {},
   "outputs": [
    {
     "name": "stdout",
     "output_type": "stream",
     "text": [
      "Y (30152, 1)\n",
      "X (30152, 4, 4)\n"
     ]
    }
   ],
   "source": [
    "X, Y = to_supervised(scaled_dataset)\n",
    "X = np.array(X)\n",
    "Y = np.array(Y)\n",
    "print('Y' ,Y.shape)\n",
    "print('X' ,X.shape)"
   ]
  },
  {
   "cell_type": "code",
   "execution_count": 51,
   "id": "96f9b772",
   "metadata": {},
   "outputs": [
    {
     "name": "stdout",
     "output_type": "stream",
     "text": [
      "X_train (21392, 4, 4)\n",
      "X_test (8760, 4, 4)\n",
      "Y_train (21392, 1)\n",
      "Y_test (8760, 1)\n"
     ]
    }
   ],
   "source": [
    "#Splitting the dataset\n",
    "n_train = 24*365\n",
    "X_train, X_test = X[n_train:,] , X[:n_train,]\n",
    "print('X_train' ,X_train.shape)\n",
    "print('X_test' ,X_test.shape)\n",
    "\n",
    "Y_train, Y_test = Y[n_train:,] , Y[:n_train,]\n",
    "print('Y_train' ,Y_train.shape)\n",
    "print('Y_test' ,Y_test.shape)"
   ]
  },
  {
   "cell_type": "code",
   "execution_count": 52,
   "id": "6757e136",
   "metadata": {},
   "outputs": [],
   "source": [
    "#Importing LSTM model\n",
    "from keras.models import Sequential\n",
    "from keras.layers import Dense, Dropout,LSTM\n",
    "model = Sequential()\n",
    "\n",
    "model.add(LSTM(units = 50, return_sequences = True, input_shape=(X_train.shape[1], X_train.shape[2])))\n",
    "model.add(Dropout(0.2))\n",
    "\n",
    "model.add(LSTM(units = 50, return_sequences = True))\n",
    "model.add(Dropout(0.2))\n",
    "\n",
    "model.add(LSTM(units = 50))\n",
    "model.add(Dropout(0.2))\n",
    "\n",
    "model.add(Dense(units = 1))\n",
    "\n",
    "model.compile(optimizer = 'adam', loss = 'mean_squared_error')"
   ]
  },
  {
   "cell_type": "code",
   "execution_count": 53,
   "id": "064f18e3",
   "metadata": {},
   "outputs": [
    {
     "name": "stdout",
     "output_type": "stream",
     "text": [
      "Epoch 1/20\n",
      "21392/21392 [==============================] - 13s 598us/step - loss: 0.0033\n",
      "Epoch 2/20\n",
      "21392/21392 [==============================] - 10s 487us/step - loss: 0.0015\n",
      "Epoch 3/20\n",
      "21392/21392 [==============================] - 11s 499us/step - loss: 0.0012\n",
      "Epoch 4/20\n",
      "21392/21392 [==============================] - 11s 500us/step - loss: 0.0011\n",
      "Epoch 5/20\n",
      "21392/21392 [==============================] - 11s 528us/step - loss: 0.0010\n",
      "Epoch 6/20\n",
      "21392/21392 [==============================] - 12s 544us/step - loss: 0.0010\n",
      "Epoch 7/20\n",
      "21392/21392 [==============================] - 11s 533us/step - loss: 9.7957e-04\n",
      "Epoch 8/20\n",
      "21392/21392 [==============================] - 11s 500us/step - loss: 9.5906e-04\n",
      "Epoch 9/20\n",
      "21392/21392 [==============================] - 11s 511us/step - loss: 9.4978e-04\n",
      "Epoch 10/20\n",
      "21392/21392 [==============================] - 10s 487us/step - loss: 9.8310e-04\n",
      "Epoch 11/20\n",
      "21392/21392 [==============================] - 11s 499us/step - loss: 9.5208e-04\n",
      "Epoch 12/20\n",
      "21392/21392 [==============================] - 12s 580us/step - loss: 9.4733e-04\n",
      "Epoch 13/20\n",
      "21392/21392 [==============================] - 14s 647us/step - loss: 9.4940e-04\n",
      "Epoch 14/20\n",
      "21392/21392 [==============================] - 13s 607us/step - loss: 9.4138e-04\n",
      "Epoch 15/20\n",
      "21392/21392 [==============================] - 12s 538us/step - loss: 9.3838e-04\n",
      "Epoch 16/20\n",
      "21392/21392 [==============================] - 11s 509us/step - loss: 9.3381e-04\n",
      "Epoch 17/20\n",
      "21392/21392 [==============================] - 12s 541us/step - loss: 9.4125e-04\n",
      "Epoch 18/20\n",
      "21392/21392 [==============================] - 11s 513us/step - loss: 9.3652e-04\n",
      "Epoch 19/20\n",
      "21392/21392 [==============================] - 11s 527us/step - loss: 9.2870e-04\n",
      "Epoch 20/20\n",
      "21392/21392 [==============================] - 12s 549us/step - loss: 9.1943e-04\n"
     ]
    },
    {
     "data": {
      "text/plain": [
       "<keras.callbacks.History at 0x140655710>"
      ]
     },
     "execution_count": 53,
     "metadata": {},
     "output_type": "execute_result"
    }
   ],
   "source": [
    "#Train the model\n",
    "model.fit(X_train, Y_train, epochs = 20, batch_size = 32)"
   ]
  },
  {
   "cell_type": "code",
   "execution_count": 54,
   "id": "b5fb9e43",
   "metadata": {},
   "outputs": [],
   "source": [
    "#Taking predictions\n",
    "from keras.models import load_model\n",
    "model.save('AirPollutionMultivariate.h5')\n"
   ]
  },
  {
   "cell_type": "code",
   "execution_count": 55,
   "id": "904fab8e",
   "metadata": {},
   "outputs": [
    {
     "data": {
      "text/plain": [
       "0.019670127"
      ]
     },
     "execution_count": 55,
     "metadata": {},
     "output_type": "execute_result"
    }
   ],
   "source": [
    "Y_pred = model.predict(X_test)\n",
    "\n",
    "from sklearn.metrics import mean_squared_error\n",
    "mse = mean_squared_error(Y_test, Y_pred)\n",
    "\n",
    "rmse = np.sqrt(mse)\n",
    "rmse"
   ]
  },
  {
   "cell_type": "code",
   "execution_count": 56,
   "id": "2f7754a5",
   "metadata": {},
   "outputs": [
    {
     "name": "stdout",
     "output_type": "stream",
     "text": [
      "y_predicted (8760, 1)\n",
      "X_test (8760, 4, 4)\n",
      "scaled Values shape (30156, 4)\n"
     ]
    }
   ],
   "source": [
    "#Y_predicted = scaler.inverse_transform(Y_pred)\n",
    "print('y_predicted',Y_pred.shape)\n",
    "#print('X_train' ,X_train.shape)\n",
    "print('X_test' ,X_test.shape)\n",
    "print('scaled Values shape', scaled_dataset.shape)"
   ]
  },
  {
   "cell_type": "code",
   "execution_count": 57,
   "id": "a98af573",
   "metadata": {},
   "outputs": [
    {
     "name": "stdout",
     "output_type": "stream",
     "text": [
      "dummy (8760, 4)\n",
      "Y_pred (8760, 1)\n",
      "concat y_pred (8760, 1)\n",
      "concat Y_test (8760, 1)\n"
     ]
    }
   ],
   "source": [
    "#Scaling back to the original scale\n",
    "d = scaled_dataset[:8760,:]\n",
    "print('dummy',d.shape)\n",
    "print('Y_pred',Y_pred.shape)\n",
    "Y_predicted = np.concatenate((Y_pred,d[:8760,1:]), axis =1)\n",
    "print('concat y_pred',Y_pred.shape)\n",
    "Y_tested = np.concatenate((Y_test, d[:8760,1:]), axis = 1)\n",
    "print('concat Y_test', Y_test.shape)"
   ]
  },
  {
   "cell_type": "code",
   "execution_count": 58,
   "id": "d30cb23f",
   "metadata": {},
   "outputs": [
    {
     "name": "stdout",
     "output_type": "stream",
     "text": [
      "Y_tested (8760, 1)\n",
      "Y_predicted (8760, 1)\n"
     ]
    }
   ],
   "source": [
    "Y_predicted = scaler.inverse_transform(Y_predicted)\n",
    "Y_tested = scaler.inverse_transform(Y_tested)\n",
    "Y_predicted = Y_predicted[:,0:1]\n",
    "Y_tested = Y_tested[:,0:1]\n",
    "print('Y_tested', Y_tested.shape)\n",
    "print('Y_predicted', Y_predicted.shape)"
   ]
  },
  {
   "cell_type": "code",
   "execution_count": 59,
   "id": "92bb80fc",
   "metadata": {},
   "outputs": [
    {
     "data": {
      "text/plain": [
       "14.544091"
      ]
     },
     "execution_count": 59,
     "metadata": {},
     "output_type": "execute_result"
    }
   ],
   "source": [
    "from sklearn.metrics import mean_squared_error\n",
    "mse = mean_squared_error(Y_tested, Y_predicted)\n",
    "\n",
    "rmse = np.sqrt(mse)\n",
    "rmse"
   ]
  },
  {
   "cell_type": "code",
   "execution_count": 60,
   "id": "cc6057eb",
   "metadata": {},
   "outputs": [
    {
     "data": {
      "image/png": "[encoded data removed]",
      "text/plain": [
       "<Figure size 720x432 with 1 Axes>"
      ]
     },
     "metadata": {
      "needs_background": "light"
     },
     "output_type": "display_data"
    },
    {
     "data": {
      "text/plain": [
       "<Figure size 432x288 with 0 Axes>"
      ]
     },
     "metadata": {},
     "output_type": "display_data"
    }
   ],
   "source": [
    "#Plot the graph between actual vs predicted values\n",
    "plt.figure(figsize=(10,6))  \n",
    "plt.plot(Y_predicted[:100,:], color= 'green',label = 'Predicted Pollution level')\n",
    "plt.plot(Y_tested[:100,:] , color = 'red',label = 'Actual Pollution level')\n",
    "plt.title(\"Air Pollution Prediction (Multivariate)\")\n",
    "plt.xlabel(\"Date\")\n",
    "plt.ylabel(\"Pollution level\")\n",
    "plt.legend()\n",
    "plt.show()\n",
    "plt.savefig('graph.png')"
   ]
  },
  {
   "cell_type": "code",
   "execution_count": 61,
   "id": "58a67644",
   "metadata": {},
   "outputs": [
    {
     "name": "stdout",
     "output_type": "stream",
     "text": [
      "RMSE 14.544091\n",
      "Mean of Test data  85.37593\n"
     ]
    }
   ],
   "source": [
    "from sklearn.metrics import mean_squared_error\n",
    "mse = mean_squared_error(Y_tested, Y_predicted)\n",
    "#print('Mean squared error', mse)\n",
    "print('RMSE' , np.sqrt(mse))\n",
    "print(\"Mean of Test data \", np.mean(Y_tested))"
   ]
  }
 ],
 "metadata": {
  "kernelspec": {
   "display_name": "Python 3",
   "language": "python",
   "name": "python3"
  },
  "language_info": {
   "codemirror_mode": {
    "name": "ipython",
    "version": 3
   },
   "file_extension": ".py",
   "mimetype": "text/x-python",
   "name": "python",
   "nbconvert_exporter": "python",
   "pygments_lexer": "ipython3",
   "version": "3.7.6"
  }
 },
 "nbformat": 4,
 "nbformat_minor": 5
}
